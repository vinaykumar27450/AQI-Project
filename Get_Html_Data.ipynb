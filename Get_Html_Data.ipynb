{
 "cells": [
  {
   "cell_type": "code",
   "execution_count": 1,
   "id": "personal-twist",
   "metadata": {},
   "outputs": [],
   "source": [
    "import os\n",
    "import time\n",
    "import requests\n",
    "import sys"
   ]
  },
  {
   "cell_type": "code",
   "execution_count": 2,
   "id": "molecular-production",
   "metadata": {},
   "outputs": [],
   "source": [
    "def retrieve_html():\n",
    "    for year in range(2019,2021):\n",
    "        for month in range(1,13):\n",
    "            if(month < 10):\n",
    "                url = 'https://en.tutiempo.net/climate/0{}-{}/ws-421810.html'.format(month,year)\n",
    "            else:\n",
    "                url = 'https://en.tutiempo.net/climate/{}-{}/ws-421810.html'.format(month,year)\n",
    "#             print(url)\n",
    "            texts = requests.get(url)\n",
    "            text_utf = texts.text.encode('utf-8')\n",
    "            if not os.path.exists('Data/html_data/{}'.format(year)):\n",
    "                os.makedirs('Data/html_data/{}'.format(year))\n",
    "            with open('Data/html_data/{}/{}.html'.format(year,month),'wb') as output:\n",
    "                output.write(text_utf)\n",
    "        sys.stdout.flush()"
   ]
  },
  {
   "cell_type": "code",
   "execution_count": 3,
   "id": "durable-reduction",
   "metadata": {},
   "outputs": [],
   "source": [
    "retrieve_html()"
   ]
  },
  {
   "cell_type": "code",
   "execution_count": null,
   "id": "sought-control",
   "metadata": {},
   "outputs": [],
   "source": []
  }
 ],
 "metadata": {
  "kernelspec": {
   "display_name": "Python 3",
   "language": "python",
   "name": "python3"
  },
  "language_info": {
   "codemirror_mode": {
    "name": "ipython",
    "version": 3
   },
   "file_extension": ".py",
   "mimetype": "text/x-python",
   "name": "python",
   "nbconvert_exporter": "python",
   "pygments_lexer": "ipython3",
   "version": "3.8.3"
  }
 },
 "nbformat": 4,
 "nbformat_minor": 5
}
